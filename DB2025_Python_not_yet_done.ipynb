{
 "cells": [
  {
   "cell_type": "markdown",
   "id": "03f65c34",
   "metadata": {},
   "source": [
    "Лабораторная работа. MySQL."
   ]
  },
  {
   "cell_type": "markdown",
   "id": "0c341679",
   "metadata": {},
   "source": [
    "Эта лабораторная работа имеет целью эмулировать процесс обработки данных, загрузку их в базу данных, обновление этих данных в базе, составление запросов к ней и выгрузку данных. Создавая и заполняя таблицы, проверяйте появление тех или иных элементов или записей в таблице в MySQL Workbench для большей наглядности."
   ]
  },
  {
   "cell_type": "markdown",
   "id": "dfce04c6",
   "metadata": {},
   "source": [
    "Смодулируем небольшое исследование, которое разметит тексты по нескольким метрикам. Для этого используем небольшой датасет критики детской литературы отсюда: https://dataverse.pushdom.ru/dataset.xhtml?persistentId=doi:10.31860/openlit-2022.12-B008"
   ]
  },
  {
   "cell_type": "markdown",
   "id": "d551bc4d",
   "metadata": {},
   "source": [
    "**Глава 1. Метаданные**\n",
    "\n",
    "Пушкинский дом подготавливает для нас описание корпуса, поэтому можно использовать табличку с метаданными для нашей работы."
   ]
  },
  {
   "cell_type": "code",
   "execution_count": null,
   "id": "fe86c4f5",
   "metadata": {},
   "outputs": [],
   "source": [
    "import pandas as pd"
   ]
  },
  {
   "cell_type": "code",
   "execution_count": null,
   "id": "1574c831",
   "metadata": {},
   "outputs": [],
   "source": [
    "path = 'bibliography.tsv' #измените путь на свой\n",
    "meta = pd.read_csv(path, sep='\\t') #пушкинский дом выкладывает файлы в  tsv (tab separated values), поэтому надо указать правильный делиметер\n",
    "meta"
   ]
  },
  {
   "cell_type": "markdown",
   "id": "e130097f",
   "metadata": {},
   "source": [
    "В таблице есть записи годов \"1927-1928\". Это не годится для типа данных INT или YEAR в SQL таблице, поэтому изменим слегка эту запись:"
   ]
  },
  {
   "cell_type": "code",
   "execution_count": null,
   "id": "e9e5a2b4",
   "metadata": {},
   "outputs": [],
   "source": [
    "meta['year'] = meta['year'].replace(['1927-1928'], '1928')"
   ]
  },
  {
   "cell_type": "markdown",
   "id": "dc66fd74",
   "metadata": {},
   "source": [
    "Как видно, в табличке есть вся нужная метаинформация по корпусу. Создадим отдельную базу данных и сохраним туда эту табличку. Назначим номер первичным ключом."
   ]
  },
  {
   "cell_type": "code",
   "execution_count": null,
   "id": "f1a2866b",
   "metadata": {},
   "outputs": [],
   "source": [
    "%pip install mysql-connector-python"
   ]
  },
  {
   "cell_type": "code",
   "execution_count": null,
   "id": "e4401188",
   "metadata": {},
   "outputs": [],
   "source": [
    "import mysql.connector\n",
    "from getpass import getpass"
   ]
  },
  {
   "cell_type": "code",
   "execution_count": null,
   "id": "42ef2260",
   "metadata": {},
   "outputs": [],
   "source": [
    "mydb = mysql.connector.connect(\n",
    "    host = 'localhost',\n",
    "    user = \"root\",\n",
    "    password = getpass('Введите ваш пароль!')  \n",
    ")\n",
    "\n",
    "mycursor = mydb.cursor()\n",
    "mycursor.execute(\"SHOW DATABASES\")\n",
    "\n",
    "for database in mycursor:\n",
    "  print(database)"
   ]
  },
  {
   "cell_type": "code",
   "execution_count": null,
   "id": "b243fe18",
   "metadata": {},
   "outputs": [],
   "source": [
    "mydb = mysql.connector.connect(\n",
    "  host = \"localhost\",\n",
    "  user = \"root\",\n",
    "  password = getpass('Введите ваш пароль!')   \n",
    ")\n",
    "\n",
    "mycursor = mydb.cursor()\n",
    "mycursor.execute(\"CREATE DATABASE critics\") #создаём пока только саму БД с названием critics"
   ]
  },
  {
   "cell_type": "markdown",
   "id": "c40c0598",
   "metadata": {},
   "source": [
    "Загрузим табличку с метаинформацией в БД. Заполним её таким же образом, как было в семинарском занятии по Python + SQL. Библиографию брать не будем. Для этого извлечем кортежи, т.е. строки, из пандасовского датафрейма."
   ]
  },
  {
   "cell_type": "code",
   "execution_count": null,
   "id": "91711f50",
   "metadata": {},
   "outputs": [],
   "source": [
    "for_db = [(int(meta['№'][ind]), meta['author'][ind], meta['title'][ind], meta['source'][ind], int(meta['year'][ind])) for ind in meta.index]\n",
    "for_db #list comprehension для сбора кортежей для нашей таблицы"
   ]
  },
  {
   "cell_type": "markdown",
   "id": "1bf6d247",
   "metadata": {},
   "source": [
    "Создадим пустую табличку."
   ]
  },
  {
   "cell_type": "markdown",
   "id": "776d5d62",
   "metadata": {},
   "source": [
    "Для начала посмотрим, какие таблички уже есть в БД:"
   ]
  },
  {
   "cell_type": "code",
   "execution_count": null,
   "id": "fa4a7e20",
   "metadata": {},
   "outputs": [],
   "source": [
    "mydb = mysql.connector.connect(\n",
    "    host = \"localhost\",\n",
    "    user = \"root\",\n",
    "    password = getpass('Введите ваш пароль!'),\n",
    "    database = 'critics'\n",
    ")\n",
    "\n",
    "mycursor = mydb.cursor()\n",
    "mycursor.execute(\"SHOW TABLES\")\n",
    "\n",
    "for table in mycursor:\n",
    "  print(table)"
   ]
  },
  {
   "cell_type": "markdown",
   "id": "58e4da49",
   "metadata": {},
   "source": [
    "Пусто! Создадим таблицу."
   ]
  },
  {
   "cell_type": "code",
   "execution_count": null,
   "id": "9f0c0172",
   "metadata": {},
   "outputs": [],
   "source": [
    "mydb = mysql.connector.connect(\n",
    "    host = \"localhost\",\n",
    "    user = \"root\",\n",
    "    password = getpass('Введите ваш пароль!'),\n",
    "    database = 'critics'\n",
    ")\n",
    "\n",
    "mycursor = mydb.cursor()\n",
    "mycursor.execute(\"CREATE TABLE meta (id INT AUTO_INCREMENT PRIMARY KEY,  author VARCHAR(1000), title VARCHAR(1000), source VARCHAR(1000), year YEAR)\")"
   ]
  },
  {
   "cell_type": "markdown",
   "id": "f8cf01c0",
   "metadata": {},
   "source": [
    "Проверим еще раз."
   ]
  },
  {
   "cell_type": "code",
   "execution_count": null,
   "id": "ead537b6",
   "metadata": {},
   "outputs": [],
   "source": [
    "mydb = mysql.connector.connect(\n",
    "    host = \"localhost\",\n",
    "    user = \"root\",\n",
    "    password = getpass('Введите ваш пароль!'),\n",
    "    database = 'critics'\n",
    ")\n",
    "\n",
    "mycursor = mydb.cursor()\n",
    "mycursor.execute(\"SHOW TABLES\")\n",
    "\n",
    "for table in mycursor:\n",
    "  print(table)"
   ]
  },
  {
   "cell_type": "markdown",
   "id": "b6f900c9",
   "metadata": {},
   "source": [
    "Теперь заполним эту таблицу полученной ранее информацией."
   ]
  },
  {
   "cell_type": "code",
   "execution_count": null,
   "id": "7bd1a061",
   "metadata": {},
   "outputs": [],
   "source": [
    "mydb = mysql.connector.connect(\n",
    "    host = \"localhost\",\n",
    "    user = \"root\",\n",
    "    password = getpass('Введите ваш пароль!'),\n",
    "    database = 'critics'\n",
    ")\n",
    "\n",
    "mycursor = mydb.cursor()\n",
    "sql = \"INSERT INTO meta (id, author, title, source, year) VALUES (%s, %s, %s, %s, %s)\"\n",
    "\n",
    "mycursor.executemany(sql, for_db) \n",
    "mydb.commit() #не забудьте делать коммит, иначе не сохранится запись в БД"
   ]
  },
  {
   "cell_type": "markdown",
   "id": "cf89b609",
   "metadata": {},
   "source": [
    "Посмотрим, что получилось. Пока только в Workbench."
   ]
  },
  {
   "cell_type": "markdown",
   "id": "ce547f59",
   "metadata": {},
   "source": [
    "**Глава 2. Хранение текстов в БД**\n",
    "\n",
    "Создадим ещё одну таблицу в нашей БД, в неё мы запишем тексты критических разборов. Подготовим некоторые данные для этого."
   ]
  },
  {
   "cell_type": "code",
   "execution_count": null,
   "id": "8848d276",
   "metadata": {},
   "outputs": [],
   "source": [
    "import os"
   ]
  },
  {
   "cell_type": "markdown",
   "id": "b7cf1514",
   "metadata": {},
   "source": [
    "Создадим список из кортежей, состоящих из индекса и текста рецензии."
   ]
  },
  {
   "cell_type": "code",
   "execution_count": null,
   "id": "797807c6",
   "metadata": {},
   "outputs": [],
   "source": [
    "path = 'critic_corpus\\\\' #не забудьте поменять на путь, где лежат ваши тексты\n",
    "texts = [] #сюда мы сохраним кортежи текстов и их индексов\n",
    "counter = 1 #счётчик, который поможет нам сохранять индексы\n",
    "for filename in os.listdir(path): #проходим циклом по названиям файлов в папке\n",
    "    with open(path + filename, encoding='utf-8') as txt:\n",
    "        texts.append((counter, txt.read()))\n",
    "        counter += 1\n",
    "        \n",
    "texts"
   ]
  },
  {
   "cell_type": "markdown",
   "id": "6f7b9cda",
   "metadata": {},
   "source": [
    "Создадим табличку texts и заполним её текстами."
   ]
  },
  {
   "cell_type": "code",
   "execution_count": null,
   "id": "ffa607cc",
   "metadata": {},
   "outputs": [],
   "source": [
    "mydb = mysql.connector.connect(\n",
    "    host = \"localhost\",\n",
    "    user = \"root\",\n",
    "    password = getpass('Введите ваш пароль!'),\n",
    "    database = 'critics'\n",
    ")\n",
    "\n",
    "mycursor = mydb.cursor()\n",
    "mycursor.execute(\"CREATE TABLE texts (id INT AUTO_INCREMENT PRIMARY KEY,  text TEXT)\")\n",
    "sql = \"INSERT INTO texts (id, text) VALUES (%s, %s)\"\n",
    "mycursor.executemany(sql, texts) \n",
    "mydb.commit()"
   ]
  },
  {
   "cell_type": "markdown",
   "id": "691c9fd9",
   "metadata": {},
   "source": [
    "Не забудем связать таблицы через внешний ключ:"
   ]
  },
  {
   "cell_type": "code",
   "execution_count": null,
   "id": "074cf5e3",
   "metadata": {},
   "outputs": [],
   "source": [
    "mydb = mysql.connector.connect(\n",
    "    host = \"localhost\",\n",
    "    user = \"root\",\n",
    "    password = getpass('Введите ваш пароль!'),\n",
    "    database = 'critics'\n",
    ")\n",
    "\n",
    "mycursor = mydb.cursor()\n",
    "mycursor.execute(\"ALTER TABLE texts ADD FOREIGN KEY (id) REFERENCES meta(id)\")"
   ]
  },
  {
   "cell_type": "markdown",
   "id": "bb0716f1",
   "metadata": {},
   "source": [
    "Теперь мы можем забыть о том, что у нас есть какая-то папочка и работать только с сервером. Перейдем к следующему этапу."
   ]
  },
  {
   "cell_type": "markdown",
   "id": "ed5d9ff1",
   "metadata": {},
   "source": [
    "**Глава 3. Выгрузка данных из БД и их обработка**\n",
    "\n",
    "Сделаем небольшие подсчёты по текстам нашей БД. Выгрузим тексты из неё."
   ]
  },
  {
   "cell_type": "code",
   "execution_count": null,
   "id": "00730ac4",
   "metadata": {
    "scrolled": true
   },
   "outputs": [],
   "source": [
    "mydb = mysql.connector.connect(\n",
    "    host = \"localhost\",\n",
    "    user = \"root\",\n",
    "    password = getpass('Введите ваш пароль!'),\n",
    "    database = 'critics'\n",
    ")\n",
    "\n",
    "mycursor = mydb.cursor()\n",
    "sql = \"SELECT text FROM texts\"\n",
    "mycursor.execute(sql)\n",
    "myresult = mycursor.fetchall()"
   ]
  },
  {
   "cell_type": "markdown",
   "id": "fe3bbbc5",
   "metadata": {},
   "source": [
    "Тексты в myresult лежат в кортежах, достанем их из них:"
   ]
  },
  {
   "cell_type": "code",
   "execution_count": null,
   "id": "b1e42fbf",
   "metadata": {},
   "outputs": [],
   "source": [
    "texts_cr = []\n",
    "for tupl in myresult:\n",
    "   # print(tupl)\n",
    "    for txt in tupl: \n",
    "        #print(txt)\n",
    "        texts_cr.append(txt)\n",
    "texts_cr"
   ]
  },
  {
   "cell_type": "markdown",
   "id": "da42f543",
   "metadata": {},
   "source": [
    "Подсчитаем пару простых метрик. Например, ридабилити. Не будем вдаваться в сложности и тонкости правильных формул, воспользуемся готовыми решениями для скорости. Посчитаем метрику MTLD (одна из метрик лексического разнообразия) TTR (type-token ratio)."
   ]
  },
  {
   "cell_type": "code",
   "execution_count": null,
   "id": "10f15570",
   "metadata": {},
   "outputs": [],
   "source": [
    "%pip install setuptools"
   ]
  },
  {
   "cell_type": "code",
   "execution_count": null,
   "id": "a50e8e66",
   "metadata": {},
   "outputs": [],
   "source": [
    "%pip install lexical_diversity"
   ]
  },
  {
   "cell_type": "code",
   "execution_count": null,
   "id": "da29f5e8",
   "metadata": {},
   "outputs": [],
   "source": [
    "from lexical_diversity import lex_div as ld"
   ]
  },
  {
   "cell_type": "code",
   "execution_count": null,
   "id": "38fdf102",
   "metadata": {},
   "outputs": [],
   "source": [
    "lst_mtlds_ttrs = []\n",
    "counter = 1\n",
    "for text in texts_cr:\n",
    "    tokenized_text = ld.tokenize(text)\n",
    "    tokenized_text_mtld = round(ld.mtld(tokenized_text), 3)\n",
    "    tokenized_text_ttr = round(ld.mattr(tokenized_text), 3)\n",
    "    lst_mtlds_ttrs.append((counter, tokenized_text_mtld, tokenized_text_ttr))\n",
    "    counter += 1\n",
    "lst_mtlds_ttrs #эти значения мы запишем затем в нашу БД"
   ]
  },
  {
   "cell_type": "markdown",
   "id": "226c3013",
   "metadata": {},
   "source": [
    "Создадим ещё одну табличку, где будем хранить наши данные для аналитики."
   ]
  },
  {
   "cell_type": "code",
   "execution_count": null,
   "id": "9586fafe",
   "metadata": {},
   "outputs": [],
   "source": [
    "mydb = mysql.connector.connect(\n",
    "    host = \"localhost\",\n",
    "    user = \"root\",\n",
    "    password = getpass('Введите ваш пароль!'),\n",
    "    database = 'critics'\n",
    ")\n",
    "\n",
    "mycursor = mydb.cursor()\n",
    "mycursor.execute(\"CREATE TABLE analytics (id INT AUTO_INCREMENT PRIMARY KEY,  mtld FLOAT(3), ttr FLOAT(3))\")\n",
    "#mycursor.execute(\"ALTER TABLE analytics ADD FOREIGN KEY (id) REFERENCES meta(id)\")\n",
    "sql = \"INSERT INTO analytics (id, mtld, ttr) VALUES (%s, %s, %s)\"\n",
    "mycursor.executemany(sql, lst_mtlds_ttrs) \n",
    "mydb.commit()"
   ]
  },
  {
   "cell_type": "code",
   "execution_count": null,
   "id": "edc789d7",
   "metadata": {},
   "outputs": [],
   "source": [
    "mydb = mysql.connector.connect(\n",
    "    host = \"localhost\",\n",
    "    user = \"root\",\n",
    "    password = getpass('Введите ваш пароль!'),\n",
    "    database = 'critics'\n",
    ")\n",
    "\n",
    "mycursor = mydb.cursor()\n",
    "mycursor.execute(\"ALTER TABLE analytics ADD FOREIGN KEY (id) REFERENCES meta(id)\")"
   ]
  },
  {
   "cell_type": "markdown",
   "id": "9dcffa3a",
   "metadata": {},
   "source": [
    "**Глава 4. Аналитика.**\n",
    "\n",
    "Все наши дальнейшие действия крайне тривиальны: нам нужно получать выгрузку и что-то анализировать. Давайте посчитаем корреляции по записям в нашей БД."
   ]
  },
  {
   "cell_type": "code",
   "execution_count": null,
   "id": "de761ff2",
   "metadata": {},
   "outputs": [],
   "source": [
    "mydb = mysql.connector.connect(\n",
    "    host = \"localhost\",\n",
    "    user = \"root\",\n",
    "    password = getpass('Введите ваш пароль!'),\n",
    "    database = 'critics'\n",
    ")\n",
    "\n",
    "mycursor = mydb.cursor()\n",
    "sql = \"SELECT mtld, ttr FROM analytics\"\n",
    "mycursor.execute(sql)\n",
    "myresult = mycursor.fetchall()"
   ]
  },
  {
   "cell_type": "code",
   "execution_count": null,
   "id": "69251b61",
   "metadata": {},
   "outputs": [],
   "source": [
    "import numpy as np"
   ]
  },
  {
   "cell_type": "code",
   "execution_count": null,
   "id": "8b9fa0c1",
   "metadata": {},
   "outputs": [],
   "source": [
    "mtlds = [] #сохраним отдельно mtld и ttr\n",
    "ttrs = []\n",
    "for tupl in myresult:\n",
    "    mtlds.append(tupl[0])\n",
    "    ttrs.append(tupl[1])"
   ]
  },
  {
   "cell_type": "code",
   "execution_count": null,
   "id": "1977200f",
   "metadata": {},
   "outputs": [],
   "source": [
    "cor_matrix = np.corrcoef(mtlds, ttrs) #делаем матрицу корреляций\n",
    "cor_matrix #получаем среднюю (среднеслабую) корреляцию в 0.46"
   ]
  },
  {
   "cell_type": "markdown",
   "id": "15a7b71c",
   "metadata": {},
   "source": [
    "Так как мы в SQL, мы можем писать более хитрые запросы. Например, можно вывести значения mtld и ttr текстов, написанных в и после 1927 года. Это так называемые вложенные запросы, или подзапросы."
   ]
  },
  {
   "cell_type": "code",
   "execution_count": null,
   "id": "b9132f33",
   "metadata": {},
   "outputs": [],
   "source": [
    "mydb = mysql.connector.connect(\n",
    "    host = \"localhost\",\n",
    "    user = \"root\",\n",
    "    password = getpass('Введите ваш пароль!'),\n",
    "    database = 'critics'\n",
    ")\n",
    "\n",
    "mycursor = mydb.cursor()\n",
    "sql = \"SELECT mtld, ttr FROM analytics WHERE id IN (SELECT id FROM meta WHERE year >= 1927)\"\n",
    "mycursor.execute(sql)\n",
    "myresult = mycursor.fetchall()"
   ]
  },
  {
   "cell_type": "code",
   "execution_count": null,
   "id": "63a66d01",
   "metadata": {},
   "outputs": [],
   "source": [
    "print(len(myresult))"
   ]
  },
  {
   "cell_type": "markdown",
   "id": "990a4656",
   "metadata": {},
   "source": [
    "Как видно после исполнения предыдущей команды, в результат выдачи попало только 126 записей. Таким образом мы отсекли около половины текстов. Давайте снова посчитаем корреляцию:"
   ]
  },
  {
   "cell_type": "code",
   "execution_count": null,
   "id": "bcd8ecbf",
   "metadata": {},
   "outputs": [],
   "source": [
    "mtlds = [] #сохраним отдельно mtld и ttr\n",
    "ttrs = []\n",
    "for tupl in myresult:\n",
    "    mtlds.append(tupl[0])\n",
    "    ttrs.append(tupl[1])\n",
    "r = np.corrcoef(mtlds, ttrs) #делаем матрицу корреляций\n",
    "r #получаем среднюю (среднеслабую) корреляцию в 0.46"
   ]
  },
  {
   "cell_type": "markdown",
   "id": "2d44e820",
   "metadata": {},
   "source": [
    "Довольно забавно, но степень корреляции упала. У этого нет какого-то научного или серьёзного значения, т.к. это совсем небольшое и игрушечное исследование, но тем не менее примерно так вы и будете работать в тех научных проектах, где есть БД, а также примерно такие умения начального и среднего уровнвя от вас обычно ожидается на стартовых позициях, где требуется знание SQL."
   ]
  },
  {
   "cell_type": "markdown",
   "id": "5b55e165",
   "metadata": {},
   "source": [
    "**Глава 5. Свободное искусство (то есть задание для самостоятельной работы).**\n",
    "\n",
    "Ваша задача выбрать какой-либо датасет (не слишком большой - вы не должны сделать итоговый проект в рамках этой работы, хотя итоговый проект во многом должен быть похож именно на эту лабораторную работу) из множества датасетов Пушкинского дома ( https://dataverse.pushdom.ru/) и обработать его.\n",
    "\n",
    "Задания:\n",
    "1) выбрать датасет;\n",
    "2) создать БД с несколькими таблицами, которые будут отображать всё великолепие и многообразие датасета (мета-, тексты, статистические подсчёты);\n",
    "3) заполнить эти таблицы;\n",
    "4) придумать небольшое исследование: например, корреляцию количества определенных частей речи с количеством повторений слова \"запонка\" в тексте. Достаточно 1-2 метрик, это игрушечное исследование, а не заготовка вашей статьи;\n",
    "5) проиллюстрировать ваше умение создавать таблицы, заполнять таблицы, получать выгрузку, обновлять таблицы и данные в них;\n",
    "6) также напишите 5-6 комбинаторных запросов. Например, \"подсчёт числа текстов, написанных до 1927 года\". Попробуйте придумать максимально сложные для рассматриваемого вами датасета;\n",
    "7) Напишите хотя бы один вложенный запрос;\n",
    "8) Сделайте один разумный JOIN и обоснуйте его.\n",
    "\n",
    "Оцениваться будет ваше умение аккуратно писать и обосновывать запросы. Комментируйте большинство строчек кода, надписав, что делает эта строчка. Каждый недублирующийся SQL запрос распишите, что он последовательно делает.\n",
    "\n",
    "Помимо семинарских занятий 3 модуля вам могут быть полезны выложенные учебники, а также онлайн-справочники, а особенно следующие  главы:\n",
    "1) https://www.w3schools.com/sql/default.asp\n",
    "2) https://www.w3schools.com/sql/sql_join.asp\n",
    "3) https://www.w3schools.com/sql/sql_alter.asp\n",
    "4) https://www.w3schools.com/sql/sql_insert.asp\n",
    "5) https://www.w3schools.com/sql/sql_update.asp\n",
    "\n",
    "\n",
    "Пришлите до 15.05 включительно на почту a.klimov@hse.ru архив с такой же тетрадкой, где выполнены и прокомментированы задания, а также дамп и схема вашей БД. По желанию можно прислать csv таблицы выгрузок."
   ]
  },
  {
   "cell_type": "code",
   "execution_count": null,
   "id": "2e6538e6",
   "metadata": {},
   "outputs": [],
   "source": [
    "#ваш код здесь"
   ]
  }
 ],
 "metadata": {
  "kernelspec": {
   "display_name": "Python 3",
   "language": "python",
   "name": "python3"
  },
  "language_info": {
   "codemirror_mode": {
    "name": "ipython",
    "version": 3
   },
   "file_extension": ".py",
   "mimetype": "text/x-python",
   "name": "python",
   "nbconvert_exporter": "python",
   "pygments_lexer": "ipython3",
   "version": "3.12.0"
  }
 },
 "nbformat": 4,
 "nbformat_minor": 5
}
